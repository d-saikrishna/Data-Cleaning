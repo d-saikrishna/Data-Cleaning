{
 "cells": [
  {
   "cell_type": "code",
   "execution_count": 61,
   "id": "b395de05",
   "metadata": {},
   "outputs": [],
   "source": [
    "import pandas as pd\n",
    "\n",
    "import camelot\n",
    "import os\n",
    "\n",
    "import numpy as np\n",
    "from pathlib import Path\n",
    "import requests"
   ]
  },
  {
   "cell_type": "code",
   "execution_count": 2,
   "id": "08f6afa4",
   "metadata": {},
   "outputs": [],
   "source": [
    "districts=['Ajmer','Alwar','Banswara','Baran','Barmer','Bharatpur','Bhilwara','Bikaner','Bundi',\n",
    "          'Chittaurgarh','Churu','Dausa','Dhaulpur','Dungarpur','Ganganagar','Hanumangarh',\n",
    "           'Jaipur','Jaisalmer','Jalor','Jhalawar','Jhunjhunun','Jodhpur','Karauli','Kota',\n",
    "          'Nagaur','Pali','Pratapgarh','Rajsamand','Sawai Madhopur','Sikar','Sirohi','Tonk','Udaipur']"
   ]
  },
  {
   "cell_type": "code",
   "execution_count": 3,
   "id": "b271ef9d",
   "metadata": {},
   "outputs": [],
   "source": [
    "district=districts[16]"
   ]
  },
  {
   "cell_type": "code",
   "execution_count": 4,
   "id": "c34f43fa",
   "metadata": {},
   "outputs": [
    {
     "data": {
      "text/plain": [
       "433090"
      ]
     },
     "execution_count": 4,
     "metadata": {},
     "output_type": "execute_result"
    }
   ],
   "source": [
    "#Downloading the PDF \n",
    "\n",
    "\n",
    "filename = Path(district+'.pdf')\n",
    "pdf_url = \"http://rchiips.org/nfhs/NFHS-5_FCTS/RJ/\"+str(district)+\".pdf\"\n",
    "response = requests.get(pdf_url)\n",
    "filename.write_bytes(response.content)"
   ]
  },
  {
   "cell_type": "code",
   "execution_count": 5,
   "id": "2aea5b76",
   "metadata": {},
   "outputs": [],
   "source": [
    "pdf_file = str(district)+\".pdf\""
   ]
  },
  {
   "cell_type": "code",
   "execution_count": 6,
   "id": "d63660c4",
   "metadata": {
    "scrolled": true
   },
   "outputs": [
    {
     "data": {
      "text/plain": [
       "<TableList n=6>"
      ]
     },
     "execution_count": 6,
     "metadata": {},
     "output_type": "execute_result"
    }
   ],
   "source": [
    "tables = camelot.read_pdf(pdf_file, flavor='stream', pages='3-5')\n",
    "tables"
   ]
  },
  {
   "cell_type": "code",
   "execution_count": 48,
   "id": "573b5e53",
   "metadata": {},
   "outputs": [],
   "source": [
    "dfff = pd.DataFrame(columns=[0,1,2])\n",
    "for i in range(len(tables)):\n",
    "    dfff = pd.concat([dfff,tables[i].df])"
   ]
  },
  {
   "cell_type": "code",
   "execution_count": 49,
   "id": "d902b183",
   "metadata": {},
   "outputs": [],
   "source": [
    "dfff.columns = ['Indicator','nfhs5','nfhs4']\n",
    "nfhs_indicator = pd.read_csv('indicator_nfhs.csv')\n",
    "\n",
    "indicators = dfff[['Indicator']]\n",
    "values = dfff[['nfhs5','nfhs4']].reset_index(drop=True)\n",
    "ind_list = nfhs_indicator.Index.to_list()\n",
    "values = values.iloc[ind_list].reset_index(drop=True)"
   ]
  },
  {
   "cell_type": "code",
   "execution_count": 50,
   "id": "cafb7b3f",
   "metadata": {},
   "outputs": [],
   "source": [
    "values = values.replace('na',np.NaN)\n",
    "values = values.replace('*',np.NaN)\n",
    "\n",
    "values['nfhs5'] = values['nfhs5'].str.replace(',','')\n",
    "values['nfhs4'] = values['nfhs4'].str.replace(',','')\n",
    "values['nfhs5'] = values['nfhs5'].str.replace('(','',regex=True)\n",
    "values['nfhs4'] = values['nfhs4'].str.replace('(','',regex=True)\n",
    "values['nfhs5'] = values['nfhs5'].str.replace(')','',regex=True)\n",
    "values['nfhs4'] = values['nfhs4'].str.replace(')','',regex=True)\n",
    "values['District'] = district\n",
    "values.to_csv('checks.csv')"
   ]
  },
  {
   "cell_type": "code",
   "execution_count": null,
   "id": "89ed4554",
   "metadata": {},
   "outputs": [],
   "source": [
    "#values = values[(values['nfhs5'].apply(lambda x: str(x).replace('.','',1).replace('(','',1).replace(')','',1).replace(',','',1).isdigit())) |\n",
    " #               (values['nfhs4'].apply(lambda x: str(x).replace('.','',1).replace('(','',1).replace(')','',1).replace(',','',1).isdigit())) |\n",
    "  #              (values['nfhs5'].apply(lambda x: str(x)=='na')) |\n",
    "   #             (values['nfhs4'].apply(lambda x: str(x)=='na')) |\n",
    "    #            (values['nfhs5'].apply(lambda x: str(x)=='*')) |\n",
    "     #           (values['nfhs4'].apply(lambda x: str(x)=='*'))]"
   ]
  },
  {
   "cell_type": "code",
   "execution_count": 55,
   "id": "2b5e5275",
   "metadata": {},
   "outputs": [
    {
     "name": "stdout",
     "output_type": "stream",
     "text": [
      "Ajmer\n",
      "(181, 2)\n",
      "Alwar\n",
      "(193, 2)\n",
      "Banswara\n",
      "(193, 2)\n",
      "Baran\n",
      "(193, 2)\n",
      "Barmer\n",
      "(181, 2)\n",
      "Bharatpur\n",
      "(193, 2)\n",
      "Bhilwara\n",
      "(193, 2)\n",
      "Bikaner\n",
      "(181, 2)\n",
      "Bundi\n",
      "(193, 2)\n",
      "Chittaurgarh\n",
      "(193, 2)\n",
      "Churu\n",
      "(193, 2)\n",
      "Dausa\n",
      "(193, 2)\n",
      "Dhaulpur\n",
      "(166, 2)\n",
      "Dungarpur\n",
      "(177, 2)\n",
      "Ganganagar\n",
      "(193, 2)\n",
      "Hanumangarh\n",
      "(193, 2)\n",
      "Jaipur\n",
      "(193, 2)\n",
      "Jaisalmer\n",
      "(193, 2)\n",
      "Jalor\n",
      "(178, 2)\n",
      "Jhalawar\n",
      "(193, 2)\n",
      "Jhunjhunun\n",
      "(193, 2)\n",
      "Jodhpur\n",
      "(193, 2)\n",
      "Karauli\n",
      "(193, 2)\n",
      "Kota\n",
      "(193, 2)\n",
      "Nagaur\n",
      "(178, 2)\n",
      "Pali\n",
      "(193, 2)\n",
      "Pratapgarh\n",
      "(193, 2)\n",
      "Rajsamand\n",
      "(193, 2)\n",
      "Sawai Madhopur\n",
      "(193, 2)\n",
      "Sikar\n",
      "(193, 2)\n",
      "Sirohi\n",
      "(193, 2)\n",
      "Tonk\n",
      "(193, 2)\n",
      "Udaipur\n",
      "(181, 2)\n"
     ]
    }
   ],
   "source": [
    "indivi_districs = []\n",
    "\n",
    "nfhs_indicator = pd.read_csv('indicator_nfhs.csv')\n",
    "for district in districts:\n",
    "    print(district)\n",
    "    filename = Path(str(district)+'.pdf')\n",
    "    pdf_url = \"http://rchiips.org/nfhs/NFHS-5_FCTS/RJ/\"+str(district)+\".pdf\"\n",
    "    response = requests.get(pdf_url)\n",
    "    filename.write_bytes(response.content)\n",
    "    \n",
    "    pdf_file = str(district)+\".pdf\"\n",
    "    tables = camelot.read_pdf(pdf_file, flavor='stream', pages='3-5')\n",
    "    dfff = pd.DataFrame(columns=[0,1,2])\n",
    "    for i in range(len(tables)):\n",
    "        dfff = pd.concat([dfff,tables[i].df])\n",
    "        \n",
    "        \n",
    "    dfff.columns = ['Indicator','nfhs5','nfhs4']\n",
    "    \n",
    "    values = dfff[['nfhs5','nfhs4']].reset_index(drop=True)\n",
    "    print(values.shape)\n",
    "    if values.shape[0]==193:\n",
    "        ind_list = nfhs_indicator.Index.to_list()\n",
    "        values = values.iloc[ind_list].reset_index(drop=True)\n",
    "        \n",
    "        values = values.replace('na',np.NaN)\n",
    "        values = values.replace('*',np.NaN)\n",
    "        \n",
    "        values['nfhs5'] = values['nfhs5'].str.replace(',','')\n",
    "        values['nfhs4'] = values['nfhs4'].str.replace(',','')\n",
    "        values['nfhs5'] = values['nfhs5'].str.replace('(','',regex=True)\n",
    "\n",
    "        values['nfhs4'] = values['nfhs4'].str.replace('(','',regex=True)\n",
    "        values['nfhs5'] = values['nfhs5'].str.replace(')','',regex=True)\n",
    "        values['nfhs4'] = values['nfhs4'].str.replace(')','',regex=True)\n",
    "        values['District'] = district\n",
    "        values['Indicator'] = nfhs_indicator.Indicator\n",
    "        \n",
    "        values.to_csv('nfhs5_rj/'+district+'.csv')\n",
    "    else:\n",
    "        indivi_districs.append(district)"
   ]
  },
  {
   "cell_type": "code",
   "execution_count": 56,
   "id": "da038b39",
   "metadata": {},
   "outputs": [
    {
     "data": {
      "text/plain": [
       "['Ajmer',\n",
       " 'Barmer',\n",
       " 'Bikaner',\n",
       " 'Dhaulpur',\n",
       " 'Dungarpur',\n",
       " 'Jalor',\n",
       " 'Nagaur',\n",
       " 'Udaipur']"
      ]
     },
     "execution_count": 56,
     "metadata": {},
     "output_type": "execute_result"
    }
   ],
   "source": [
    "indivi_districs"
   ]
  },
  {
   "cell_type": "code",
   "execution_count": 85,
   "id": "9caf4247",
   "metadata": {},
   "outputs": [],
   "source": [
    "files = []\n",
    "for filename in os.listdir('nfhs5_rj'):\n",
    "    if filename.endswith(\".csv\"):\n",
    "        files.append(os.path.join('nfhs5_rj', filename))"
   ]
  },
  {
   "cell_type": "code",
   "execution_count": 87,
   "id": "cdd112a3",
   "metadata": {},
   "outputs": [
    {
     "data": {
      "text/plain": [
       "33"
      ]
     },
     "execution_count": 87,
     "metadata": {},
     "output_type": "execute_result"
    }
   ],
   "source": [
    "len(districts)\n"
   ]
  },
  {
   "cell_type": "code",
   "execution_count": 88,
   "id": "50728c2a",
   "metadata": {},
   "outputs": [],
   "source": [
    "combined_csv = pd.concat([pd.read_csv(f) for f in files ])  \n",
    "combined_csv.to_csv('Master_NFHS5_RJ.csv',index=False)"
   ]
  },
  {
   "cell_type": "code",
   "execution_count": 66,
   "id": "98c18220",
   "metadata": {},
   "outputs": [
    {
     "name": "stdout",
     "output_type": "stream",
     "text": [
      "Ajmer\n",
      "Barmer\n",
      "Bikaner\n",
      "Dhaulpur\n",
      "Dungarpur\n",
      "Jalor\n",
      "Nagaur\n",
      "Udaipur\n"
     ]
    }
   ],
   "source": [
    "for district in indivi_districs:\n",
    "    print(district)\n",
    "    pdf_file = str(district)+\".pdf\"\n",
    "    tables = camelot.read_pdf(pdf_file, flavor='stream', pages='3-5')\n",
    "    dfff = pd.DataFrame(columns=[0,1,2])\n",
    "    for i in range(len(tables)):\n",
    "        dfff = pd.concat([dfff,tables[i].df])\n",
    "        \n",
    "        \n",
    "    dfff.columns = ['Indicator','nfhs5','nfhs4']\n",
    "    \n",
    "    dfff.to_csv(district+'.csv')\n",
    "    "
   ]
  },
  {
   "cell_type": "code",
   "execution_count": 77,
   "id": "9aa5ea19",
   "metadata": {},
   "outputs": [],
   "source": [
    "files = []\n",
    "for filename in os.listdir():\n",
    "    if filename.endswith(\".csv\"):\n",
    "        files.append(os.path.join(filename))"
   ]
  },
  {
   "cell_type": "code",
   "execution_count": 84,
   "id": "bc7c1fa7",
   "metadata": {},
   "outputs": [
    {
     "name": "stdout",
     "output_type": "stream",
     "text": [
      "Ajmer\n",
      "Barmer\n",
      "Bikaner\n",
      "Dhaulpur\n",
      "Dungarpur\n",
      "Jalor\n",
      "Nagaur\n",
      "Udaipur\n"
     ]
    }
   ],
   "source": [
    "for file in files:\n",
    "    print(file.split('.')[0])\n",
    "    district= file.split('.')[0]\n",
    "    df = pd.read_csv(file)\n",
    "    values = df.copy()\n",
    "    values = values.replace('na',np.NaN)\n",
    "    values = values.replace('*',np.NaN)\n",
    "        \n",
    "    values['nfhs5'] = values['nfhs5'].str.replace(',','')\n",
    "    values['nfhs4'] = values['nfhs4'].str.replace(',','')\n",
    "    values['nfhs5'] = values['nfhs5'].str.replace('(','',regex=True)\n",
    "\n",
    "    values['nfhs4'] = values['nfhs4'].str.replace('(','',regex=True)\n",
    "    values['nfhs5'] = values['nfhs5'].str.replace(')','',regex=True)\n",
    "    values['nfhs4'] = values['nfhs4'].str.replace(')','',regex=True)\n",
    "    values['District'] = district\n",
    "    values['Indicator'] = nfhs_indicator.Indicator\n",
    "    values.to_csv('nfhs5_rj/'+district+'.csv')"
   ]
  },
  {
   "cell_type": "code",
   "execution_count": 79,
   "id": "e2d5e530",
   "metadata": {},
   "outputs": [
    {
     "data": {
      "text/html": [
       "<div>\n",
       "<style scoped>\n",
       "    .dataframe tbody tr th:only-of-type {\n",
       "        vertical-align: middle;\n",
       "    }\n",
       "\n",
       "    .dataframe tbody tr th {\n",
       "        vertical-align: top;\n",
       "    }\n",
       "\n",
       "    .dataframe thead th {\n",
       "        text-align: right;\n",
       "    }\n",
       "</style>\n",
       "<table border=\"1\" class=\"dataframe\">\n",
       "  <thead>\n",
       "    <tr style=\"text-align: right;\">\n",
       "      <th></th>\n",
       "      <th>nfhs5</th>\n",
       "      <th>nfhs4</th>\n",
       "    </tr>\n",
       "  </thead>\n",
       "  <tbody>\n",
       "    <tr>\n",
       "      <th>0</th>\n",
       "      <td>63.8</td>\n",
       "      <td>52.7</td>\n",
       "    </tr>\n",
       "    <tr>\n",
       "      <th>1</th>\n",
       "      <td>27.6</td>\n",
       "      <td>32.6</td>\n",
       "    </tr>\n",
       "    <tr>\n",
       "      <th>2</th>\n",
       "      <td>998</td>\n",
       "      <td>1,043</td>\n",
       "    </tr>\n",
       "    <tr>\n",
       "      <th>3</th>\n",
       "      <td>833</td>\n",
       "      <td>993</td>\n",
       "    </tr>\n",
       "    <tr>\n",
       "      <th>4</th>\n",
       "      <td>97.8</td>\n",
       "      <td>59.8</td>\n",
       "    </tr>\n",
       "    <tr>\n",
       "      <th>...</th>\n",
       "      <td>...</td>\n",
       "      <td>...</td>\n",
       "    </tr>\n",
       "    <tr>\n",
       "      <th>99</th>\n",
       "      <td>0</td>\n",
       "      <td>na</td>\n",
       "    </tr>\n",
       "    <tr>\n",
       "      <th>100</th>\n",
       "      <td>4.5</td>\n",
       "      <td>na</td>\n",
       "    </tr>\n",
       "    <tr>\n",
       "      <th>101</th>\n",
       "      <td>42.5</td>\n",
       "      <td>na</td>\n",
       "    </tr>\n",
       "    <tr>\n",
       "      <th>102</th>\n",
       "      <td>0.3</td>\n",
       "      <td>na</td>\n",
       "    </tr>\n",
       "    <tr>\n",
       "      <th>103</th>\n",
       "      <td>14.4</td>\n",
       "      <td>na</td>\n",
       "    </tr>\n",
       "  </tbody>\n",
       "</table>\n",
       "<p>104 rows × 2 columns</p>\n",
       "</div>"
      ],
      "text/plain": [
       "    nfhs5  nfhs4\n",
       "0    63.8   52.7\n",
       "1    27.6   32.6\n",
       "2     998  1,043\n",
       "3     833    993\n",
       "4    97.8   59.8\n",
       "..    ...    ...\n",
       "99      0     na\n",
       "100   4.5     na\n",
       "101  42.5     na\n",
       "102   0.3     na\n",
       "103  14.4     na\n",
       "\n",
       "[104 rows x 2 columns]"
      ]
     },
     "execution_count": 79,
     "metadata": {},
     "output_type": "execute_result"
    }
   ],
   "source": [
    "df"
   ]
  },
  {
   "cell_type": "code",
   "execution_count": 89,
   "id": "eddc70a7",
   "metadata": {},
   "outputs": [],
   "source": [
    "df=pd.read_csv('Master_NFHS5_RJ.csv')"
   ]
  },
  {
   "cell_type": "code",
   "execution_count": 92,
   "id": "3cc0b078",
   "metadata": {},
   "outputs": [],
   "source": [
    "df['nfhs5']=df['nfhs5'].abs()\n",
    "df['nfhs4']=df['nfhs4'].abs()"
   ]
  },
  {
   "cell_type": "code",
   "execution_count": 93,
   "id": "d560ba1b",
   "metadata": {},
   "outputs": [],
   "source": [
    "df.to_csv('Master_NFHS5_RJ.csv',index=False)"
   ]
  },
  {
   "cell_type": "code",
   "execution_count": null,
   "id": "faa90e7e",
   "metadata": {},
   "outputs": [],
   "source": []
  }
 ],
 "metadata": {
  "kernelspec": {
   "display_name": "Python 3 (ipykernel)",
   "language": "python",
   "name": "python3"
  },
  "language_info": {
   "codemirror_mode": {
    "name": "ipython",
    "version": 3
   },
   "file_extension": ".py",
   "mimetype": "text/x-python",
   "name": "python",
   "nbconvert_exporter": "python",
   "pygments_lexer": "ipython3",
   "version": "3.9.7"
  }
 },
 "nbformat": 4,
 "nbformat_minor": 5
}
